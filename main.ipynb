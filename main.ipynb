{
 "cells": [
  {
   "cell_type": "code",
   "execution_count": null,
   "metadata": {},
   "outputs": [],
   "source": [
    "import pandas as pd\n",
    "import matplotlib.pyplot as plt\n",
    "from scipy.stats import norm\n",
    "import numpy as np\n",
    "import seaborn as sns"
   ]
  },
  {
   "cell_type": "code",
   "execution_count": null,
   "metadata": {},
   "outputs": [],
   "source": [
    "df = pd.read_csv('billionaires.csv')\n",
    "sample = df.sample(500, random_state=27)"
   ]
  },
  {
   "cell_type": "code",
   "execution_count": null,
   "metadata": {},
   "outputs": [],
   "source": [
    "selfmades = df[df['selfMade'] == True]\n",
    "not_selfmades = df[df['selfMade'] == False]\n",
    "sources_selfmade = selfmades['source'].value_counts()\n",
    "sources_not_selfmade = not_selfmades['source'].value_counts()\n",
    "merged = pd.merge(sources_selfmade, sources_not_selfmade, on='source', suffixes=('_selfmade', '_not_selfmade'))\n",
    "merged.rename(columns={'count_selfmade': 'Selfmade'}, inplace=True)\n",
    "merged.rename(columns={'count_not_selfmade': 'Not Selfmade'}, inplace=True)\n",
    "merged.sort_values(by=['Selfmade'], inplace=True, ascending=False)\n",
    "\n",
    "quantile = merged['Selfmade'].quantile(q=0.7, interpolation='linear')\n",
    "tops = merged[merged['Selfmade'] > quantile]\n",
    "tops.plot(kind='bar', figsize=(20, 5))\n",
    "\n",
    "plt.title('Number of Billionaires by Source')\n",
    "plt.xlabel('Source')\n",
    "plt.ylabel('Number of Billionaires')\n",
    "plt.xticks(rotation=90, ha='right')\n",
    "\n",
    "plt.show()"
   ]
  },
  {
   "cell_type": "code",
   "execution_count": null,
   "metadata": {},
   "outputs": [],
   "source": [
    "# plot the industry counts for the original dataset\n",
    "industry_counts = df['industries'].value_counts()\n",
    "plt.subplot(1, 2, 1)\n",
    "industry_counts.plot(kind='bar', figsize=(20, 5), color='green')\n",
    "plt.title('Number of Billionaires by Industries (Original Dataset)')\n",
    "plt.xlabel('Industries')\n",
    "plt.ylabel('Number of Billionaires')\n",
    "plt.xticks(rotation=90, ha='right')\n",
    "\n",
    "# plot the industry counts for the sample dataset\n",
    "industry_counts_sample = sample['industries'].value_counts()\n",
    "plt.subplot(1, 2, 2)\n",
    "industry_counts_sample.plot(kind='bar', figsize=(20, 5), color='orange')\n",
    "plt.title('Number of Billionaires by Industries (Sample Dataset)')\n",
    "plt.xlabel('Industries')\n",
    "plt.ylabel('Number of Billionaires')\n",
    "plt.xticks(rotation=90, ha='right')\n",
    "\n",
    "plt.show()"
   ]
  },
  {
   "cell_type": "code",
   "execution_count": null,
   "metadata": {},
   "outputs": [],
   "source": [
    "country_counts = df['country'].value_counts()\n",
    "plt.subplot(1, 2, 1)\n",
    "quantile = country_counts.quantile(q=0.7, interpolation='linear')\n",
    "tops = country_counts[country_counts > quantile]\n",
    "tops.plot(kind='bar', figsize=(20, 5), color='green')\n",
    "plt.title('Number of Billionaires by Country (Original Dataset)')\n",
    "plt.xlabel('Country')\n",
    "plt.ylabel('Number of Billionaires')\n",
    "plt.xticks(rotation=90, ha='right')\n",
    "\n",
    "country_counts_sample = sample['country'].value_counts()\n",
    "plt.subplot(1, 2, 2)\n",
    "quantile = country_counts_sample.quantile(q=0.5, interpolation='linear')\n",
    "tops_sample = country_counts_sample[country_counts_sample > quantile]\n",
    "tops_sample.plot(kind='bar', figsize=(20, 5), color='orange')\n",
    "plt.title('Number of Billionaires by Country (Sample Dataset)')\n",
    "plt.xlabel('Country')\n",
    "plt.ylabel('Number of Billionaires')\n",
    "plt.xticks(rotation=90, ha='right')\n",
    "\n",
    "plt.show()"
   ]
  },
  {
   "cell_type": "code",
   "execution_count": null,
   "metadata": {},
   "outputs": [],
   "source": [
    "fig, ax = plt.subplots(figsize=(15, 5))\n",
    "\n",
    "ages = df['age']\n",
    "plt.hist(ages, bins=20,color='purple')\n",
    "ax.set_title('Number of Billionaires by Age')\n",
    "ax.set_xlabel('Age')\n",
    "ax.set_ylabel('Number of Billionaires')\n",
    "\n",
    "mean = ages.mean()\n",
    "std_dev = ages.std()\n",
    "x = np.linspace(mean - 3*std_dev, mean + 3*std_dev, 100)\n",
    "pdf = norm.pdf(x, mean, std_dev)\n",
    "\n",
    "normal_ax = ax.twinx()\n",
    "normal_ax.plot(x, pdf, color='green')\n",
    "normal_ax.set_ylabel('Probability Density')\n",
    "plt.show()"
   ]
  },
  {
   "cell_type": "code",
   "execution_count": null,
   "metadata": {},
   "outputs": [],
   "source": [
    "pd.plotting.scatter_matrix(df.select_dtypes(include=[np.number]), figsize=(90, 90))\n",
    "plt.show()"
   ]
  },
  {
   "cell_type": "code",
   "execution_count": null,
   "metadata": {},
   "outputs": [],
   "source": [
    "plt.scatter(df['cpi_country'], df['life_expectancy_country'], s=64, c='green', alpha=0.1)\n",
    "plt.xlabel('Consumer Price Index')\n",
    "plt.ylabel('Life Expectancy')\n",
    "plt.title('Relationship between CPI and Life Expectancy')\n",
    "plt.grid(True)\n",
    "plt.show()"
   ]
  },
  {
   "cell_type": "code",
   "execution_count": null,
   "metadata": {},
   "outputs": [],
   "source": [
    "corr_matrix = df.corr(numeric_only=True)\n",
    "plt.figure(figsize=(16, 16))\n",
    "sns.heatmap(corr_matrix, annot=True, cmap='coolwarm')\n",
    "plt.show()"
   ]
  },
  {
   "cell_type": "code",
   "execution_count": null,
   "metadata": {},
   "outputs": [],
   "source": [
    "population = df['population_country']\n",
    "tax = df['total_tax_rate_country']\n",
    "\n",
    "plt.scatter(population, tax, s=64, c='green', alpha=0.1)\n",
    "plt.xlabel('Country Population')\n",
    "plt.ylabel('Tax Rate')\n",
    "plt.title('Relationship between Country Population and Tax Rate')\n",
    "plt.grid(True)\n",
    "plt.show()"
   ]
  }
 ],
 "metadata": {
  "kernelspec": {
   "display_name": "data",
   "language": "python",
   "name": "python3"
  },
  "language_info": {
   "codemirror_mode": {
    "name": "ipython",
    "version": 3
   },
   "file_extension": ".py",
   "mimetype": "text/x-python",
   "name": "python",
   "nbconvert_exporter": "python",
   "pygments_lexer": "ipython3",
   "version": "3.10.13"
  },
  "vscode": {
   "interpreter": {
    "hash": "837c6e1c70d24efe8f240ae7281d3f439d35fa940e14201301e78818447f8ac9"
   }
  }
 },
 "nbformat": 4,
 "nbformat_minor": 2
}
